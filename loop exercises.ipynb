{
 "cells": [
  {
   "cell_type": "code",
   "execution_count": 1,
   "id": "fa1d2101",
   "metadata": {},
   "outputs": [
    {
     "name": "stdout",
     "output_type": "stream",
     "text": [
      "1\n",
      "2\n",
      "3\n",
      "4\n",
      "5\n",
      "6\n",
      "7\n",
      "8\n",
      "9\n",
      "10\n"
     ]
    }
   ],
   "source": [
    "# Write a program to print first 10 natural number.\n",
    "naturalnumber = (1,2,3,4,5,6,7,8,9,10)\n",
    "for number in naturalnumber:\n",
    "    print(number)"
   ]
  },
  {
   "cell_type": "code",
   "execution_count": 3,
   "id": "c44c6412",
   "metadata": {},
   "outputs": [
    {
     "name": "stdout",
     "output_type": "stream",
     "text": [
      "1\n",
      "2\n",
      "3\n",
      "4\n",
      "5\n",
      "6\n",
      "7\n",
      "8\n",
      "9\n",
      "10\n"
     ]
    }
   ],
   "source": [
    "i = 0 \n",
    "\n",
    "while i < len(naturalnumber):\n",
    "    print(naturalnumber[i])\n",
    "    i += 1"
   ]
  },
  {
   "cell_type": "code",
   "execution_count": 4,
   "id": "70605b8d",
   "metadata": {},
   "outputs": [],
   "source": [
    "# Write a program to print first 10 even numbers.\n",
    "evenNumber = []\n",
    "\n",
    "for number in range(0,22):\n",
    "    if number % 2 == 0:\n",
    "        evenNumber.append(number)"
   ]
  },
  {
   "cell_type": "code",
   "execution_count": 5,
   "id": "d444ba7b",
   "metadata": {},
   "outputs": [
    {
     "data": {
      "text/plain": [
       "[0, 2, 4, 6, 8, 10, 12, 14, 16, 18, 20]"
      ]
     },
     "execution_count": 5,
     "metadata": {},
     "output_type": "execute_result"
    }
   ],
   "source": [
    "evenNumber"
   ]
  },
  {
   "cell_type": "code",
   "execution_count": 6,
   "id": "64754b97",
   "metadata": {},
   "outputs": [],
   "source": [
    "#  Write a program to print first 10 odd numbers.\n",
    "oddNumber = []\n",
    "\n",
    "for number in range(0,22):\n",
    "    if number % 2 != 0:\n",
    "        oddNumber.append(number)\n"
   ]
  },
  {
   "cell_type": "code",
   "execution_count": 7,
   "id": "6cd14762",
   "metadata": {},
   "outputs": [
    {
     "data": {
      "text/plain": [
       "[1, 3, 5, 7, 9, 11, 13, 15, 17, 19, 21]"
      ]
     },
     "execution_count": 7,
     "metadata": {},
     "output_type": "execute_result"
    }
   ],
   "source": [
    "oddNumber"
   ]
  },
  {
   "cell_type": "code",
   "execution_count": 4,
   "id": "f8909357",
   "metadata": {},
   "outputs": [],
   "source": [
    "#  Write a program to print first 10 even numbers in reverse order.\n",
    "evenNumber=[]\n",
    "for number in range(0,22):\n",
    "    if number % 2 == 0:\n",
    "        evenNumber.append(number)\n",
    "\n",
    "evenNumber.reverse()\n"
   ]
  },
  {
   "cell_type": "code",
   "execution_count": 5,
   "id": "b386a137",
   "metadata": {},
   "outputs": [
    {
     "data": {
      "text/plain": [
       "[20, 18, 16, 14, 12, 10, 8, 6, 4, 2, 0]"
      ]
     },
     "execution_count": 5,
     "metadata": {},
     "output_type": "execute_result"
    }
   ],
   "source": [
    "evenNumber"
   ]
  },
  {
   "cell_type": "code",
   "execution_count": null,
   "id": "4d768397",
   "metadata": {},
   "outputs": [],
   "source": []
  },
  {
   "cell_type": "code",
   "execution_count": null,
   "id": "c0a6d793",
   "metadata": {},
   "outputs": [],
   "source": []
  },
  {
   "cell_type": "code",
   "execution_count": 2,
   "id": "42a4f2ae",
   "metadata": {},
   "outputs": [],
   "source": [
    "evenNumber"
   ]
  },
  {
   "cell_type": "code",
   "execution_count": null,
   "id": "3301dbfd",
   "metadata": {},
   "outputs": [],
   "source": []
  },
  {
   "cell_type": "code",
   "execution_count": null,
   "id": "ebaa8c01",
   "metadata": {},
   "outputs": [],
   "source": []
  },
  {
   "cell_type": "code",
   "execution_count": 15,
   "id": "14fe1f9e",
   "metadata": {},
   "outputs": [],
   "source": [
    "evenNumber"
   ]
  },
  {
   "cell_type": "code",
   "execution_count": null,
   "id": "5722161b",
   "metadata": {},
   "outputs": [],
   "source": []
  },
  {
   "cell_type": "code",
   "execution_count": null,
   "id": "25f16171",
   "metadata": {},
   "outputs": [],
   "source": []
  },
  {
   "cell_type": "code",
   "execution_count": null,
   "id": "c7d7b2ef",
   "metadata": {},
   "outputs": [],
   "source": []
  },
  {
   "cell_type": "code",
   "execution_count": null,
   "id": "e13b0a3a",
   "metadata": {},
   "outputs": [],
   "source": []
  },
  {
   "cell_type": "code",
   "execution_count": null,
   "id": "f979ffb2",
   "metadata": {},
   "outputs": [],
   "source": []
  },
  {
   "cell_type": "code",
   "execution_count": null,
   "id": "c5721c63",
   "metadata": {},
   "outputs": [],
   "source": []
  },
  {
   "cell_type": "code",
   "execution_count": null,
   "id": "aeac0f6a",
   "metadata": {},
   "outputs": [],
   "source": []
  },
  {
   "cell_type": "code",
   "execution_count": null,
   "id": "a30e5af8",
   "metadata": {},
   "outputs": [],
   "source": []
  }
 ],
 "metadata": {
  "kernelspec": {
   "display_name": "Python 3 (ipykernel)",
   "language": "python",
   "name": "python3"
  },
  "language_info": {
   "codemirror_mode": {
    "name": "ipython",
    "version": 3
   },
   "file_extension": ".py",
   "mimetype": "text/x-python",
   "name": "python",
   "nbconvert_exporter": "python",
   "pygments_lexer": "ipython3",
   "version": "3.9.7"
  }
 },
 "nbformat": 4,
 "nbformat_minor": 5
}
